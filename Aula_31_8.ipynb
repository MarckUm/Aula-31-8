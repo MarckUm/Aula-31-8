{
  "nbformat": 4,
  "nbformat_minor": 0,
  "metadata": {
    "colab": {
      "name": "Aula 31/8.ipynb",
      "provenance": [],
      "authorship_tag": "ABX9TyMCrj1ghNjfmi6tjgG8XWZq",
      "include_colab_link": true
    },
    "kernelspec": {
      "name": "python3",
      "display_name": "Python 3"
    }
  },
  "cells": [
    {
      "cell_type": "markdown",
      "metadata": {
        "id": "view-in-github",
        "colab_type": "text"
      },
      "source": [
        "<a href=\"https://colab.research.google.com/github/MarckUm/Aula-31-8/blob/master/Aula_31_8.ipynb\" target=\"_parent\"><img src=\"https://colab.research.google.com/assets/colab-badge.svg\" alt=\"Open In Colab\"/></a>"
      ]
    },
    {
      "cell_type": "code",
      "metadata": {
        "id": "aigi2_Bpql94",
        "colab_type": "code",
        "colab": {
          "base_uri": "https://localhost:8080/",
          "height": 51
        },
        "outputId": "327ad932-2918-40f8-8b1a-6df3f9083de9"
      },
      "source": [
        "'''ExLista = [5, 'um', 2.0, True]\n",
        "ExLista[-1] = ExLista[0]*ExLista[2]\n",
        "print(ExLista)\n",
        "ExLista.append(ExLista[1] + ' e Dois') \n",
        "print(ExLista)\n",
        "ExLista.append(154)\n",
        "print(ExLista)\n",
        "Ultimo = ExLista.pop()\n",
        "print(ExLista)\n",
        "print(Ultimo)\n",
        "\n",
        "ExLista = [5, 'Um', 99.99, True]\n",
        "Extraio = ExLista.pop(1)\n",
        "print(ExLista)\n",
        "print(Extraio)\n",
        "\n",
        "L1 = [9, 12, 0, 3.6, 85.3, 99/9, 120/14 ]\n",
        "print(L1)\n",
        "L1.sort()\n",
        "print(L1)\n",
        "\n",
        "L2 = ['g', 'a', 'i', 'z', 'casa', 'xadrez']\n",
        "L2.sort()\n",
        "print(l2)\n",
        "\n",
        "L1 = [9, 12, 0, 3.6, 85.3, 99/9, 120/14 ]\n",
        "print(L1)\n",
        "L1.sprt()\n",
        "print(L1)\n",
        "L1.reverse()\n",
        "print(L1)'''\n",
        "\n",
        "L1 = [9, 12, 0, 3.6, 85.3, 99/9, 69]\n",
        "print(sum(L1))\n"
      ],
      "execution_count": 16,
      "outputs": [
        {
          "output_type": "stream",
          "text": [
            "[9, 12, 0, 3.6, 85.3, 11.0, 8.571428571428571]\n",
            "[0, 3.6, 8.571428571428571, 9, 11.0, 12, 85.3]\n"
          ],
          "name": "stdout"
        }
      ]
    },
    {
      "cell_type": "code",
      "metadata": {
        "id": "60kiIVwT4eq5",
        "colab_type": "code",
        "colab": {}
      },
      "source": [
        ""
      ],
      "execution_count": null,
      "outputs": []
    }
  ]
}